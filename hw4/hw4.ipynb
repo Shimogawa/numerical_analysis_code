{
 "cells": [
  {
   "cell_type": "code",
   "execution_count": 3,
   "metadata": {},
   "outputs": [],
   "source": [
    "import numpy as np\n",
    "import matplotlib.pyplot as plt\n",
    "\n",
    "from matplotlib import rc\n",
    "rc('text', usetex=True)\n",
    "rc('font', size=14)"
   ]
  },
  {
   "cell_type": "code",
   "execution_count": null,
   "metadata": {},
   "outputs": [],
   "source": []
  },
  {
   "cell_type": "code",
   "execution_count": null,
   "metadata": {},
   "outputs": [],
   "source": []
  },
  {
   "cell_type": "code",
   "execution_count": null,
   "metadata": {},
   "outputs": [],
   "source": []
  },
  {
   "cell_type": "code",
   "execution_count": null,
   "metadata": {},
   "outputs": [],
   "source": []
  },
  {
   "cell_type": "code",
   "execution_count": null,
   "metadata": {},
   "outputs": [],
   "source": []
  },
  {
   "cell_type": "markdown",
   "metadata": {},
   "source": [
    "## Problem 5"
   ]
  },
  {
   "cell_type": "code",
   "execution_count": 6,
   "metadata": {},
   "outputs": [],
   "source": [
    "def powerMethod(A, x0, its=100):\n",
    "    vk = x0 / np.linalg.norm(x0)\n",
    "    for k in range(its):\n",
    "        wk = A @ vk\n",
    "        v_k1 = wk / np.linalg.norm(wk)\n",
    "        lambda_k = vk.T @ A @ vk\n",
    "        vk = v_k1\n",
    "        if k < 5:\n",
    "            print(f\"{k + 1}\\t{lambda_k}\\t{vk}\")\n",
    "    return lambda_k, vk"
   ]
  },
  {
   "cell_type": "code",
   "execution_count": 7,
   "metadata": {},
   "outputs": [
    {
     "name": "stdout",
     "output_type": "stream",
     "text": [
      "1\t-1.333333333333334\t[-0.43643578  0.21821789  0.87287156]\n",
      "2\t-4.714285714285715\t[ 0.80829038  0.11547005 -0.57735027]\n",
      "3\t-5.640000000000001\t[-0.64483142  0.05862104  0.7620735 ]\n",
      "4\t-5.90721649484536\t[ 0.73561236  0.02942449 -0.67676337]\n",
      "5\t-5.976623376623377\t[-0.69215012  0.0147266   0.72160331]\n"
     ]
    },
    {
     "data": {
      "text/plain": [
       "(-6.0, array([ 7.07106781e-01,  1.85037171e-17, -7.07106781e-01]))"
      ]
     },
     "execution_count": 7,
     "metadata": {},
     "output_type": "execute_result"
    }
   ],
   "source": [
    "A = np.array([[-2,1,4], [1,1,1], [4,1,-2]])\n",
    "x0 = np.array([1,2,-1])\n",
    "\n",
    "powerMethod(A, x0)"
   ]
  },
  {
   "cell_type": "code",
   "execution_count": 8,
   "metadata": {},
   "outputs": [
    {
     "name": "stdout",
     "output_type": "stream",
     "text": [
      "1\t2.666666666666667\t[0.57735027 0.57735027 0.57735027]\n",
      "2\t3.0\t[0.57735027 0.57735027 0.57735027]\n",
      "3\t2.9999999999999996\t[0.57735027 0.57735027 0.57735027]\n",
      "4\t2.9999999999999996\t[0.57735027 0.57735027 0.57735027]\n",
      "5\t2.9999999999999996\t[0.57735027 0.57735027 0.57735027]\n"
     ]
    },
    {
     "data": {
      "text/plain": [
       "(-6.000000000000002,\n",
       " array([-7.07106781e-01,  1.14723046e-14,  7.07106781e-01]))"
      ]
     },
     "execution_count": 8,
     "metadata": {},
     "output_type": "execute_result"
    }
   ],
   "source": [
    "A = np.array([[-2,1,4], [1,1,1], [4,1,-2]])\n",
    "x0 = np.array([1,2,1])\n",
    "\n",
    "powerMethod(A, x0, 100)"
   ]
  },
  {
   "cell_type": "code",
   "execution_count": 9,
   "metadata": {},
   "outputs": [
    {
     "data": {
      "text/plain": [
       "(array([-6.00000000e+00,  3.00000000e+00,  2.77080206e-16]),\n",
       " array([[ 7.07106781e-01, -5.77350269e-01,  4.08248290e-01],\n",
       "        [-4.70543743e-17, -5.77350269e-01, -8.16496581e-01],\n",
       "        [-7.07106781e-01, -5.77350269e-01,  4.08248290e-01]]))"
      ]
     },
     "execution_count": 9,
     "metadata": {},
     "output_type": "execute_result"
    }
   ],
   "source": [
    "np.linalg.eig(A)"
   ]
  },
  {
   "cell_type": "code",
   "execution_count": null,
   "metadata": {},
   "outputs": [],
   "source": []
  },
  {
   "cell_type": "code",
   "execution_count": null,
   "metadata": {},
   "outputs": [],
   "source": []
  },
  {
   "cell_type": "code",
   "execution_count": null,
   "metadata": {},
   "outputs": [],
   "source": []
  },
  {
   "cell_type": "code",
   "execution_count": 10,
   "metadata": {},
   "outputs": [],
   "source": [
    "tmp = np.sqrt(2) / 2\n",
    "B = np.array([[tmp, 0, tmp], [0, 1, 0], [-tmp, 0, tmp]])"
   ]
  },
  {
   "cell_type": "code",
   "execution_count": 11,
   "metadata": {},
   "outputs": [
    {
     "name": "stdout",
     "output_type": "stream",
     "text": [
      "1\t0.7071067811865476\t[ 0.70710678  0.         -0.70710678]\n",
      "2\t0.7071067811865477\t[ 0.  0. -1.]\n",
      "3\t0.7071067811865476\t[-0.70710678  0.         -0.70710678]\n",
      "4\t0.7071067811865477\t[-1.  0.  0.]\n",
      "5\t0.7071067811865476\t[-0.70710678  0.          0.70710678]\n"
     ]
    },
    {
     "data": {
      "text/plain": [
       "(0.7071067811865477, array([-1.,  0.,  0.]))"
      ]
     },
     "execution_count": 11,
     "metadata": {},
     "output_type": "execute_result"
    }
   ],
   "source": [
    "x0 = np.array([1, 0, 0])\n",
    "powerMethod(B, x0)"
   ]
  },
  {
   "cell_type": "code",
   "execution_count": 12,
   "metadata": {},
   "outputs": [
    {
     "data": {
      "text/plain": [
       "(array([0.70710678+0.70710678j, 0.70710678-0.70710678j,\n",
       "        1.        +0.j        ]),\n",
       " array([[0.        -0.70710678j, 0.        +0.70710678j,\n",
       "         0.        +0.j        ],\n",
       "        [0.        +0.j        , 0.        -0.j        ,\n",
       "         1.        +0.j        ],\n",
       "        [0.70710678+0.j        , 0.70710678-0.j        ,\n",
       "         0.        +0.j        ]]))"
      ]
     },
     "execution_count": 12,
     "metadata": {},
     "output_type": "execute_result"
    }
   ],
   "source": [
    "np.linalg.eig(B)"
   ]
  },
  {
   "cell_type": "code",
   "execution_count": null,
   "metadata": {},
   "outputs": [],
   "source": []
  },
  {
   "cell_type": "code",
   "execution_count": 21,
   "metadata": {},
   "outputs": [],
   "source": [
    "def inversePowerMethod(A, theta, x0, its=100):\n",
    "    vk = x0 / np.linalg.norm(x0)\n",
    "    for k in range(its):\n",
    "        wk = np.linalg.inv(A - theta * np.eye(len(A))) @ vk\n",
    "        v_k1 = wk / np.linalg.norm(wk)\n",
    "        vk = v_k1\n",
    "        if k % 100 == 0:\n",
    "            print(f\"{k + 1}\\t{vk}\")\n",
    "    return vk"
   ]
  },
  {
   "cell_type": "code",
   "execution_count": 22,
   "metadata": {},
   "outputs": [
    {
     "name": "stdout",
     "output_type": "stream",
     "text": [
      "1\t[-0.56202712 -0.57721704 -0.59240696]\n"
     ]
    },
    {
     "data": {
      "text/plain": [
       "array([0.57735027, 0.57735027, 0.57735027])"
      ]
     },
     "execution_count": 22,
     "metadata": {},
     "output_type": "execute_result"
    }
   ],
   "source": [
    "inversePowerMethod(A, 3.5, np.array([1,2,3]))"
   ]
  },
  {
   "cell_type": "code",
   "execution_count": 23,
   "metadata": {},
   "outputs": [
    {
     "data": {
      "text/plain": [
       "(array([-6.00000000e+00,  3.00000000e+00,  2.77080206e-16]),\n",
       " array([[ 7.07106781e-01, -5.77350269e-01,  4.08248290e-01],\n",
       "        [-4.70543743e-17, -5.77350269e-01, -8.16496581e-01],\n",
       "        [-7.07106781e-01, -5.77350269e-01,  4.08248290e-01]]))"
      ]
     },
     "execution_count": 23,
     "metadata": {},
     "output_type": "execute_result"
    }
   ],
   "source": [
    "np.linalg.eig(A)"
   ]
  },
  {
   "cell_type": "code",
   "execution_count": null,
   "metadata": {},
   "outputs": [],
   "source": []
  },
  {
   "cell_type": "code",
   "execution_count": 24,
   "metadata": {},
   "outputs": [],
   "source": [
    "def inversePowerMethod2(A, theta0, x0, its=100):\n",
    "    vk = x0 / np.linalg.norm(x0)\n",
    "    theta = theta0\n",
    "    for k in range(its):\n",
    "        try:\n",
    "            wk = np.linalg.inv(A - theta * np.eye(len(A))) @ vk\n",
    "        except np.linalg.LinAlgError:\n",
    "            break\n",
    "        vk1 = wk / np.linalg.norm(wk)\n",
    "        theta = (vk.T @ A @ vk) / (vk.T @ vk)\n",
    "        vk = vk1\n",
    "    return k, vk, theta"
   ]
  },
  {
   "cell_type": "code",
   "execution_count": 25,
   "metadata": {},
   "outputs": [
    {
     "data": {
      "text/plain": [
       "(7, array([-2.34509802e-18, -1.00000000e+00,  4.62588982e-19]), 1.0)"
      ]
     },
     "execution_count": 25,
     "metadata": {},
     "output_type": "execute_result"
    }
   ],
   "source": [
    "inversePowerMethod2(B, 17, np.array([1,2,3]))"
   ]
  },
  {
   "cell_type": "code",
   "execution_count": 28,
   "metadata": {},
   "outputs": [
    {
     "name": "stdout",
     "output_type": "stream",
     "text": [
      "1\t[-0.30011121 -0.5418171  -0.78509075]\n",
      "101\t[ 0.22426907 -0.97452467  0.00224659]\n",
      "201\t[-0.01282057 -0.99941761  0.0316241 ]\n",
      "301\t[-0.00367063 -0.99998717 -0.00349083]\n",
      "401\t[ 6.81422292e-04 -9.99999718e-01 -3.16945325e-04]\n",
      "501\t[ 6.71010305e-06 -9.99999994e-01  1.11293844e-04]\n",
      "601\t[-1.57279787e-05 -1.00000000e+00 -5.12358259e-06]\n",
      "701\t[ 1.56223179e-06 -1.00000000e+00 -1.89260673e-06]\n",
      "801\t[ 1.76337300e-07 -1.00000000e+00  3.18534388e-07]\n",
      "901\t[-5.35566928e-08 -1.00000000e+00  7.02663412e-09]\n"
     ]
    },
    {
     "data": {
      "text/plain": [
       "array([-2.32048431e-09,  1.00000000e+00,  7.83156743e-09])"
      ]
     },
     "execution_count": 28,
     "metadata": {},
     "output_type": "execute_result"
    }
   ],
   "source": [
    "inversePowerMethod(B, 17, np.array([1,2,3]), 1000)"
   ]
  },
  {
   "cell_type": "code",
   "execution_count": null,
   "metadata": {},
   "outputs": [],
   "source": []
  },
  {
   "cell_type": "code",
   "execution_count": null,
   "metadata": {},
   "outputs": [],
   "source": []
  },
  {
   "cell_type": "code",
   "execution_count": null,
   "metadata": {},
   "outputs": [],
   "source": []
  },
  {
   "cell_type": "code",
   "execution_count": null,
   "metadata": {},
   "outputs": [],
   "source": []
  },
  {
   "cell_type": "code",
   "execution_count": null,
   "metadata": {},
   "outputs": [],
   "source": []
  },
  {
   "cell_type": "markdown",
   "metadata": {},
   "source": [
    "## Problem 6\n",
    "\n"
   ]
  },
  {
   "cell_type": "code",
   "execution_count": 1,
   "metadata": {},
   "outputs": [],
   "source": [
    "def genA(n):\n",
    "    A = np.zeros((n, n))\n",
    "    for i in range(n):\n",
    "        A[i, i] = 2 * (i + 1)\n",
    "    for i in range(n - 1):\n",
    "        A[i + 1, i] = -(i + 1)\n",
    "        A[i, i + 1] = -(i + 1)\n",
    "    return A"
   ]
  },
  {
   "cell_type": "code",
   "execution_count": 4,
   "metadata": {},
   "outputs": [
    {
     "data": {
      "text/plain": [
       "array([[ 2., -1.,  0.,  0.,  0.],\n",
       "       [-1.,  4., -2.,  0.,  0.],\n",
       "       [ 0., -2.,  6., -3.,  0.],\n",
       "       [ 0.,  0., -3.,  8., -4.],\n",
       "       [ 0.,  0.,  0., -4., 10.]])"
      ]
     },
     "execution_count": 4,
     "metadata": {},
     "output_type": "execute_result"
    }
   ],
   "source": [
    "genA(5)"
   ]
  },
  {
   "cell_type": "code",
   "execution_count": 9,
   "metadata": {},
   "outputs": [
    {
     "data": {
      "text/plain": [
       "(0.30052863049765555, 15.69997482711916, -7.699030783088838, 7.699030783088838)"
      ]
     },
     "execution_count": 9,
     "metadata": {},
     "output_type": "execute_result"
    },
    {
     "data": {
      "image/png": "[encoded data removed]",
      "text/plain": [
       "<Figure size 432x288 with 1 Axes>"
      ]
     },
     "metadata": {
      "needs_background": "light"
     },
     "output_type": "display_data"
    }
   ],
   "source": [
    "n = 5\n",
    "an = np.linspace(0, 2 * np.pi, 100)\n",
    "for i in range(n - 1):\n",
    "    r = 2 * i + 1\n",
    "    o = 2 * (i + 1)\n",
    "    plt.plot(o + r * np.cos(an), r * np.sin(an))\n",
    "plt.plot(2 * n + (n - 1) * np.cos(an), (n - 1) * np.sin(an))\n",
    "\n",
    "plt.grid()\n",
    "\n",
    "plt.axis('scaled')\n",
    "plt.axis('equal')\n",
    "\n",
    "# plt.savefig('6_1.pdf', dpi=100)\n"
   ]
  },
  {
   "cell_type": "code",
   "execution_count": null,
   "metadata": {},
   "outputs": [],
   "source": []
  },
  {
   "cell_type": "code",
   "execution_count": null,
   "metadata": {},
   "outputs": [],
   "source": []
  },
  {
   "cell_type": "code",
   "execution_count": null,
   "metadata": {},
   "outputs": [],
   "source": []
  },
  {
   "cell_type": "code",
   "execution_count": null,
   "metadata": {},
   "outputs": [],
   "source": []
  },
  {
   "cell_type": "markdown",
   "metadata": {},
   "source": [
    "## Problem 7"
   ]
  },
  {
   "cell_type": "code",
   "execution_count": 33,
   "metadata": {},
   "outputs": [],
   "source": [
    "n = 100\n",
    "I = np.eye(n)\n",
    "tmp = np.random.randn(n, n)\n",
    "tmp[tmp < 2] = 2\n",
    "A = 0.5 * I[np.random.permutation(n), :] + tmp - 2\n",
    "A = A - np.diag(np.diag(A))\n",
    "tmp = np.sum(A, 0)\n",
    "tmp[tmp < 1e-10] = 1e-10\n",
    "tmp = np.diag(1 / tmp)\n",
    "L = A @ tmp"
   ]
  },
  {
   "cell_type": "code",
   "execution_count": 34,
   "metadata": {},
   "outputs": [
    {
     "data": {
      "image/png": "[encoded data removed]",
      "text/plain": [
       "<Figure size 432x288 with 1 Axes>"
      ]
     },
     "metadata": {
      "needs_background": "light"
     },
     "output_type": "display_data"
    }
   ],
   "source": [
    "plt.spy(L, marker='.')\n",
    "plt.grid()\n",
    "\n",
    "# plt.savefig(\"p7_1.pdf\", dpi=100)"
   ]
  },
  {
   "cell_type": "code",
   "execution_count": 35,
   "metadata": {},
   "outputs": [],
   "source": [
    "E, V = np.linalg.eig(L)"
   ]
  },
  {
   "cell_type": "code",
   "execution_count": 36,
   "metadata": {},
   "outputs": [
    {
     "data": {
      "text/plain": [
       "<matplotlib.legend.Legend at 0x2a89b8cbd48>"
      ]
     },
     "execution_count": 36,
     "metadata": {},
     "output_type": "execute_result"
    },
    {
     "data": {
      "image/png": "[encoded data removed]",
      "text/plain": [
       "<Figure size 432x288 with 1 Axes>"
      ]
     },
     "metadata": {
      "needs_background": "light"
     },
     "output_type": "display_data"
    }
   ],
   "source": [
    "x = []\n",
    "y = []\n",
    "for i in E:\n",
    "    x.append(i.real)\n",
    "    y.append(i.imag)\n",
    "    \n",
    "an = np.linspace(0, 2 * np.pi, 100)\n",
    "plt.plot(np.cos(an), np.sin(an), label=\"Unit Circle\")\n",
    "plt.plot(x, y, '.', label=\"Eigenvalues\")\n",
    "plt.axis('scaled')\n",
    "plt.axis('equal')\n",
    "plt.grid()\n",
    "plt.legend()\n",
    "\n",
    "# plt.savefig(\"p7_2.pdf\", dpi=100)"
   ]
  },
  {
   "cell_type": "code",
   "execution_count": null,
   "metadata": {},
   "outputs": [],
   "source": []
  },
  {
   "cell_type": "code",
   "execution_count": 48,
   "metadata": {},
   "outputs": [],
   "source": [
    "kappa = 0.5\n",
    "E = np.full((n, n), 1/n)\n",
    "S = kappa * L + (1 - kappa) * E"
   ]
  },
  {
   "cell_type": "code",
   "execution_count": 49,
   "metadata": {},
   "outputs": [],
   "source": [
    "Es, Vs = np.linalg.eig(S)"
   ]
  },
  {
   "cell_type": "code",
   "execution_count": 50,
   "metadata": {},
   "outputs": [
    {
     "data": {
      "text/plain": [
       "<matplotlib.legend.Legend at 0x2a8b1eb2388>"
      ]
     },
     "execution_count": 50,
     "metadata": {},
     "output_type": "execute_result"
    },
    {
     "data": {
      "image/png": "[encoded data removed]",
      "text/plain": [
       "<Figure size 432x288 with 1 Axes>"
      ]
     },
     "metadata": {
      "needs_background": "light"
     },
     "output_type": "display_data"
    }
   ],
   "source": [
    "x = []\n",
    "y = []\n",
    "for i in Es:\n",
    "    x.append(i.real)\n",
    "    y.append(i.imag)\n",
    "    \n",
    "an = np.linspace(0, 2 * np.pi, 100)\n",
    "plt.plot(np.cos(an), np.sin(an), label=\"Unit Circle\")\n",
    "plt.plot(x, y, '.', label=\"Eigenvalues\")\n",
    "plt.axis('scaled')\n",
    "plt.axis('equal')\n",
    "plt.grid()\n",
    "plt.legend()"
   ]
  },
  {
   "cell_type": "code",
   "execution_count": null,
   "metadata": {},
   "outputs": [],
   "source": []
  },
  {
   "cell_type": "code",
   "execution_count": null,
   "metadata": {},
   "outputs": [],
   "source": []
  },
  {
   "cell_type": "code",
   "execution_count": null,
   "metadata": {},
   "outputs": [],
   "source": []
  },
  {
   "cell_type": "code",
   "execution_count": null,
   "metadata": {},
   "outputs": [],
   "source": []
  }
 ],
 "metadata": {
  "kernelspec": {
   "display_name": "Python 3",
   "language": "python",
   "name": "python3"
  },
  "language_info": {
   "codemirror_mode": {
    "name": "ipython",
    "version": 3
   },
   "file_extension": ".py",
   "mimetype": "text/x-python",
   "name": "python",
   "nbconvert_exporter": "python",
   "pygments_lexer": "ipython3",
   "version": "3.7.6"
  }
 },
 "nbformat": 4,
 "nbformat_minor": 4
}
