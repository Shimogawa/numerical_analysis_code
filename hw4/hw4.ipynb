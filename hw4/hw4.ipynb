{
 "cells": [
  {
   "cell_type": "code",
   "execution_count": 2,
   "metadata": {},
   "outputs": [],
   "source": [
    "import numpy as np\n",
    "import matplotlib.pyplot as plt"
   ]
  },
  {
   "cell_type": "code",
   "execution_count": null,
   "metadata": {},
   "outputs": [],
   "source": []
  },
  {
   "cell_type": "code",
   "execution_count": null,
   "metadata": {},
   "outputs": [],
   "source": []
  },
  {
   "cell_type": "code",
   "execution_count": null,
   "metadata": {},
   "outputs": [],
   "source": []
  },
  {
   "cell_type": "code",
   "execution_count": null,
   "metadata": {},
   "outputs": [],
   "source": []
  },
  {
   "cell_type": "code",
   "execution_count": null,
   "metadata": {},
   "outputs": [],
   "source": []
  },
  {
   "cell_type": "markdown",
   "metadata": {},
   "source": [
    "## Problem 5"
   ]
  },
  {
   "cell_type": "code",
   "execution_count": 27,
   "metadata": {},
   "outputs": [],
   "source": [
    "def powerMethod(A, x0, its=100):\n",
    "    vk = x0 / np.linalg.norm(x0)\n",
    "    for k in range(its):\n",
    "        wk = A @ vk\n",
    "        v_k1 = wk / np.linalg.norm(wk)\n",
    "        lambda_k = vk.T @ A @ vk\n",
    "        vk = v_k1\n",
    "        if k < 5:\n",
    "            print(f\"{k + 1}\\t{lambda_k}\\t{vk}\")\n",
    "    return lambda_k, vk"
   ]
  },
  {
   "cell_type": "code",
   "execution_count": 28,
   "metadata": {},
   "outputs": [
    {
     "name": "stdout",
     "output_type": "stream",
     "text": [
      "1\t-1.333333333333334\t[-0.43643578  0.21821789  0.87287156]\n",
      "2\t-4.714285714285715\t[ 0.80829038  0.11547005 -0.57735027]\n",
      "3\t-5.640000000000001\t[-0.64483142  0.05862104  0.7620735 ]\n",
      "4\t-5.90721649484536\t[ 0.73561236  0.02942449 -0.67676337]\n",
      "5\t-5.976623376623377\t[-0.69215012  0.0147266   0.72160331]\n"
     ]
    },
    {
     "data": {
      "text/plain": [
       "(-6.0, array([ 7.07106781e-01,  1.85037171e-17, -7.07106781e-01]))"
      ]
     },
     "execution_count": 28,
     "metadata": {},
     "output_type": "execute_result"
    }
   ],
   "source": [
    "A = np.array([[-2,1,4], [1,1,1], [4,1,-2]])\n",
    "x0 = np.array([1,2,-1])\n",
    "\n",
    "powerMethod(A, x0)"
   ]
  },
  {
   "cell_type": "code",
   "execution_count": 29,
   "metadata": {},
   "outputs": [
    {
     "name": "stdout",
     "output_type": "stream",
     "text": [
      "1\t2.666666666666667\t[0.57735027 0.57735027 0.57735027]\n",
      "2\t3.0\t[0.57735027 0.57735027 0.57735027]\n",
      "3\t2.9999999999999996\t[0.57735027 0.57735027 0.57735027]\n",
      "4\t2.9999999999999996\t[0.57735027 0.57735027 0.57735027]\n",
      "5\t2.9999999999999996\t[0.57735027 0.57735027 0.57735027]\n"
     ]
    },
    {
     "data": {
      "text/plain": [
       "(-6.000000000000002,\n",
       " array([-7.07106781e-01,  1.14723046e-14,  7.07106781e-01]))"
      ]
     },
     "execution_count": 29,
     "metadata": {},
     "output_type": "execute_result"
    }
   ],
   "source": [
    "A = np.array([[-2,1,4], [1,1,1], [4,1,-2]])\n",
    "x0 = np.array([1,2,1])\n",
    "\n",
    "powerMethod(A, x0, 100)"
   ]
  },
  {
   "cell_type": "code",
   "execution_count": 30,
   "metadata": {},
   "outputs": [
    {
     "data": {
      "text/plain": [
       "(array([-6.00000000e+00,  3.00000000e+00,  2.77080206e-16]),\n",
       " array([[ 7.07106781e-01, -5.77350269e-01,  4.08248290e-01],\n",
       "        [-4.70543743e-17, -5.77350269e-01, -8.16496581e-01],\n",
       "        [-7.07106781e-01, -5.77350269e-01,  4.08248290e-01]]))"
      ]
     },
     "execution_count": 30,
     "metadata": {},
     "output_type": "execute_result"
    }
   ],
   "source": [
    "np.linalg.eig(A)"
   ]
  },
  {
   "cell_type": "code",
   "execution_count": null,
   "metadata": {},
   "outputs": [],
   "source": []
  },
  {
   "cell_type": "code",
   "execution_count": null,
   "metadata": {},
   "outputs": [],
   "source": []
  },
  {
   "cell_type": "code",
   "execution_count": null,
   "metadata": {},
   "outputs": [],
   "source": []
  },
  {
   "cell_type": "code",
   "execution_count": 3,
   "metadata": {},
   "outputs": [],
   "source": [
    "tmp = np.sqrt(2) / 2\n",
    "B = np.array([[tmp, 0, tmp], [0, 1, 0], [-tmp, 0, tmp]])"
   ]
  },
  {
   "cell_type": "code",
   "execution_count": 5,
   "metadata": {},
   "outputs": [
    {
     "name": "stdout",
     "output_type": "stream",
     "text": [
      "1\t0.7071067811865476\t[ 0.70710678  0.         -0.70710678]\n",
      "2\t0.7071067811865477\t[ 0.  0. -1.]\n",
      "3\t0.7071067811865476\t[-0.70710678  0.         -0.70710678]\n",
      "4\t0.7071067811865477\t[-1.  0.  0.]\n",
      "5\t0.7071067811865476\t[-0.70710678  0.          0.70710678]\n",
      "6\t0.7071067811865477\t[0. 0. 1.]\n",
      "7\t0.7071067811865476\t[0.70710678 0.         0.70710678]\n",
      "8\t0.7071067811865477\t[1. 0. 0.]\n",
      "9\t0.7071067811865476\t[ 0.70710678  0.         -0.70710678]\n",
      "10\t0.7071067811865477\t[ 0.  0. -1.]\n",
      "11\t0.7071067811865476\t[-0.70710678  0.         -0.70710678]\n",
      "12\t0.7071067811865477\t[-1.  0.  0.]\n",
      "13\t0.7071067811865476\t[-0.70710678  0.          0.70710678]\n",
      "14\t0.7071067811865477\t[0. 0. 1.]\n",
      "15\t0.7071067811865476\t[0.70710678 0.         0.70710678]\n",
      "16\t0.7071067811865477\t[1. 0. 0.]\n",
      "17\t0.7071067811865476\t[ 0.70710678  0.         -0.70710678]\n",
      "18\t0.7071067811865477\t[ 0.  0. -1.]\n",
      "19\t0.7071067811865476\t[-0.70710678  0.         -0.70710678]\n",
      "20\t0.7071067811865477\t[-1.  0.  0.]\n",
      "21\t0.7071067811865476\t[-0.70710678  0.          0.70710678]\n",
      "22\t0.7071067811865477\t[0. 0. 1.]\n",
      "23\t0.7071067811865476\t[0.70710678 0.         0.70710678]\n",
      "24\t0.7071067811865477\t[1. 0. 0.]\n",
      "25\t0.7071067811865476\t[ 0.70710678  0.         -0.70710678]\n",
      "26\t0.7071067811865477\t[ 0.  0. -1.]\n",
      "27\t0.7071067811865476\t[-0.70710678  0.         -0.70710678]\n",
      "28\t0.7071067811865477\t[-1.  0.  0.]\n",
      "29\t0.7071067811865476\t[-0.70710678  0.          0.70710678]\n",
      "30\t0.7071067811865477\t[0. 0. 1.]\n",
      "31\t0.7071067811865476\t[0.70710678 0.         0.70710678]\n",
      "32\t0.7071067811865477\t[1. 0. 0.]\n",
      "33\t0.7071067811865476\t[ 0.70710678  0.         -0.70710678]\n",
      "34\t0.7071067811865477\t[ 0.  0. -1.]\n",
      "35\t0.7071067811865476\t[-0.70710678  0.         -0.70710678]\n",
      "36\t0.7071067811865477\t[-1.  0.  0.]\n",
      "37\t0.7071067811865476\t[-0.70710678  0.          0.70710678]\n",
      "38\t0.7071067811865477\t[0. 0. 1.]\n",
      "39\t0.7071067811865476\t[0.70710678 0.         0.70710678]\n",
      "40\t0.7071067811865477\t[1. 0. 0.]\n",
      "41\t0.7071067811865476\t[ 0.70710678  0.         -0.70710678]\n",
      "42\t0.7071067811865477\t[ 0.  0. -1.]\n",
      "43\t0.7071067811865476\t[-0.70710678  0.         -0.70710678]\n",
      "44\t0.7071067811865477\t[-1.  0.  0.]\n",
      "45\t0.7071067811865476\t[-0.70710678  0.          0.70710678]\n",
      "46\t0.7071067811865477\t[0. 0. 1.]\n",
      "47\t0.7071067811865476\t[0.70710678 0.         0.70710678]\n",
      "48\t0.7071067811865477\t[1. 0. 0.]\n",
      "49\t0.7071067811865476\t[ 0.70710678  0.         -0.70710678]\n",
      "50\t0.7071067811865477\t[ 0.  0. -1.]\n",
      "51\t0.7071067811865476\t[-0.70710678  0.         -0.70710678]\n",
      "52\t0.7071067811865477\t[-1.  0.  0.]\n",
      "53\t0.7071067811865476\t[-0.70710678  0.          0.70710678]\n",
      "54\t0.7071067811865477\t[0. 0. 1.]\n",
      "55\t0.7071067811865476\t[0.70710678 0.         0.70710678]\n",
      "56\t0.7071067811865477\t[1. 0. 0.]\n",
      "57\t0.7071067811865476\t[ 0.70710678  0.         -0.70710678]\n",
      "58\t0.7071067811865477\t[ 0.  0. -1.]\n",
      "59\t0.7071067811865476\t[-0.70710678  0.         -0.70710678]\n",
      "60\t0.7071067811865477\t[-1.  0.  0.]\n",
      "61\t0.7071067811865476\t[-0.70710678  0.          0.70710678]\n",
      "62\t0.7071067811865477\t[0. 0. 1.]\n",
      "63\t0.7071067811865476\t[0.70710678 0.         0.70710678]\n",
      "64\t0.7071067811865477\t[1. 0. 0.]\n",
      "65\t0.7071067811865476\t[ 0.70710678  0.         -0.70710678]\n",
      "66\t0.7071067811865477\t[ 0.  0. -1.]\n",
      "67\t0.7071067811865476\t[-0.70710678  0.         -0.70710678]\n",
      "68\t0.7071067811865477\t[-1.  0.  0.]\n",
      "69\t0.7071067811865476\t[-0.70710678  0.          0.70710678]\n",
      "70\t0.7071067811865477\t[0. 0. 1.]\n",
      "71\t0.7071067811865476\t[0.70710678 0.         0.70710678]\n",
      "72\t0.7071067811865477\t[1. 0. 0.]\n",
      "73\t0.7071067811865476\t[ 0.70710678  0.         -0.70710678]\n",
      "74\t0.7071067811865477\t[ 0.  0. -1.]\n",
      "75\t0.7071067811865476\t[-0.70710678  0.         -0.70710678]\n",
      "76\t0.7071067811865477\t[-1.  0.  0.]\n",
      "77\t0.7071067811865476\t[-0.70710678  0.          0.70710678]\n",
      "78\t0.7071067811865477\t[0. 0. 1.]\n",
      "79\t0.7071067811865476\t[0.70710678 0.         0.70710678]\n",
      "80\t0.7071067811865477\t[1. 0. 0.]\n",
      "81\t0.7071067811865476\t[ 0.70710678  0.         -0.70710678]\n",
      "82\t0.7071067811865477\t[ 0.  0. -1.]\n",
      "83\t0.7071067811865476\t[-0.70710678  0.         -0.70710678]\n",
      "84\t0.7071067811865477\t[-1.  0.  0.]\n",
      "85\t0.7071067811865476\t[-0.70710678  0.          0.70710678]\n",
      "86\t0.7071067811865477\t[0. 0. 1.]\n",
      "87\t0.7071067811865476\t[0.70710678 0.         0.70710678]\n",
      "88\t0.7071067811865477\t[1. 0. 0.]\n",
      "89\t0.7071067811865476\t[ 0.70710678  0.         -0.70710678]\n",
      "90\t0.7071067811865477\t[ 0.  0. -1.]\n",
      "91\t0.7071067811865476\t[-0.70710678  0.         -0.70710678]\n",
      "92\t0.7071067811865477\t[-1.  0.  0.]\n",
      "93\t0.7071067811865476\t[-0.70710678  0.          0.70710678]\n",
      "94\t0.7071067811865477\t[0. 0. 1.]\n",
      "95\t0.7071067811865476\t[0.70710678 0.         0.70710678]\n",
      "96\t0.7071067811865477\t[1. 0. 0.]\n",
      "97\t0.7071067811865476\t[ 0.70710678  0.         -0.70710678]\n",
      "98\t0.7071067811865477\t[ 0.  0. -1.]\n",
      "99\t0.7071067811865476\t[-0.70710678  0.         -0.70710678]\n",
      "100\t0.7071067811865477\t[-1.  0.  0.]\n"
     ]
    },
    {
     "data": {
      "text/plain": [
       "(0.7071067811865477, array([-1.,  0.,  0.]))"
      ]
     },
     "execution_count": 5,
     "metadata": {},
     "output_type": "execute_result"
    }
   ],
   "source": [
    "x0 = np.array([1, 0, 0])\n",
    "powerMethod(B, x0)"
   ]
  },
  {
   "cell_type": "code",
   "execution_count": 6,
   "metadata": {},
   "outputs": [
    {
     "data": {
      "text/plain": [
       "(array([0.70710678+0.70710678j, 0.70710678-0.70710678j,\n",
       "        1.        +0.j        ]),\n",
       " array([[0.        -0.70710678j, 0.        +0.70710678j,\n",
       "         0.        +0.j        ],\n",
       "        [0.        +0.j        , 0.        -0.j        ,\n",
       "         1.        +0.j        ],\n",
       "        [0.70710678+0.j        , 0.70710678-0.j        ,\n",
       "         0.        +0.j        ]]))"
      ]
     },
     "execution_count": 6,
     "metadata": {},
     "output_type": "execute_result"
    }
   ],
   "source": [
    "np.linalg.eig(B)"
   ]
  },
  {
   "cell_type": "code",
   "execution_count": null,
   "metadata": {},
   "outputs": [],
   "source": []
  },
  {
   "cell_type": "code",
   "execution_count": 20,
   "metadata": {},
   "outputs": [],
   "source": [
    "def inversePowerMethod(A, theta, x0, its=100):\n",
    "    vk = x0 / np.linalg.norm(x0)\n",
    "    for k in range(its):\n",
    "        wk = np.linalg.inv(A - theta * np.eye(len(A))) @ vk\n",
    "        v_k1 = wk / np.linalg.norm(wk)\n",
    "        vk = v_k1\n",
    "        if k < 10:\n",
    "            print(f\"{k + 1}\\t{vk}\")\n",
    "    return vk"
   ]
  },
  {
   "cell_type": "code",
   "execution_count": 35,
   "metadata": {},
   "outputs": [
    {
     "name": "stdout",
     "output_type": "stream",
     "text": [
      "1\t[-0.56202712 -0.57721704 -0.59240696]\n",
      "2\t[0.57655025 0.5773499  0.57814955]\n",
      "3\t[-0.57730818 -0.57735027 -0.57739236]\n",
      "4\t[0.57734805 0.57735027 0.57735248]\n",
      "5\t[-0.57735015 -0.57735027 -0.57735039]\n",
      "6\t[0.57735026 0.57735027 0.57735028]\n",
      "7\t[-0.57735027 -0.57735027 -0.57735027]\n",
      "8\t[0.57735027 0.57735027 0.57735027]\n",
      "9\t[-0.57735027 -0.57735027 -0.57735027]\n",
      "10\t[0.57735027 0.57735027 0.57735027]\n"
     ]
    },
    {
     "data": {
      "text/plain": [
       "array([0.57735027, 0.57735027, 0.57735027])"
      ]
     },
     "execution_count": 35,
     "metadata": {},
     "output_type": "execute_result"
    }
   ],
   "source": [
    "inversePowerMethod(A, 3.5, np.array([1,2,3]))"
   ]
  },
  {
   "cell_type": "code",
   "execution_count": 26,
   "metadata": {},
   "outputs": [
    {
     "data": {
      "text/plain": [
       "(array([-6.00000000e+00,  3.00000000e+00,  2.77080206e-16]),\n",
       " array([[ 7.07106781e-01, -5.77350269e-01,  4.08248290e-01],\n",
       "        [-4.70543743e-17, -5.77350269e-01, -8.16496581e-01],\n",
       "        [-7.07106781e-01, -5.77350269e-01,  4.08248290e-01]]))"
      ]
     },
     "execution_count": 26,
     "metadata": {},
     "output_type": "execute_result"
    }
   ],
   "source": [
    "np.linalg.eig(A)"
   ]
  },
  {
   "cell_type": "code",
   "execution_count": null,
   "metadata": {},
   "outputs": [],
   "source": []
  },
  {
   "cell_type": "code",
   "execution_count": null,
   "metadata": {},
   "outputs": [],
   "source": []
  },
  {
   "cell_type": "markdown",
   "metadata": {},
   "source": [
    "## Problem 6\n",
    "\n"
   ]
  },
  {
   "cell_type": "code",
   "execution_count": 1,
   "metadata": {},
   "outputs": [],
   "source": [
    "def genA(n):\n",
    "    A = np.zeros((n, n))\n",
    "    for i in range(n):\n",
    "        A[i, i] = 2 * (i + 1)\n",
    "    for i in range(n - 1):\n",
    "        A[i + 1, i] = -(i + 1)\n",
    "        A[i, i + 1] = -(i + 1)\n",
    "    return A"
   ]
  },
  {
   "cell_type": "code",
   "execution_count": 4,
   "metadata": {},
   "outputs": [
    {
     "data": {
      "text/plain": [
       "array([[ 2., -1.,  0.,  0.,  0.],\n",
       "       [-1.,  4., -2.,  0.,  0.],\n",
       "       [ 0., -2.,  6., -3.,  0.],\n",
       "       [ 0.,  0., -3.,  8., -4.],\n",
       "       [ 0.,  0.,  0., -4., 10.]])"
      ]
     },
     "execution_count": 4,
     "metadata": {},
     "output_type": "execute_result"
    }
   ],
   "source": [
    "genA(5)"
   ]
  },
  {
   "cell_type": "code",
   "execution_count": 9,
   "metadata": {},
   "outputs": [
    {
     "data": {
      "text/plain": [
       "(0.30052863049765555, 15.69997482711916, -7.699030783088838, 7.699030783088838)"
      ]
     },
     "execution_count": 9,
     "metadata": {},
     "output_type": "execute_result"
    },
    {
     "data": {
      "image/png": "[encoded data removed]",
      "text/plain": [
       "<Figure size 432x288 with 1 Axes>"
      ]
     },
     "metadata": {
      "needs_background": "light"
     },
     "output_type": "display_data"
    }
   ],
   "source": [
    "n = 5\n",
    "an = np.linspace(0, 2 * np.pi, 100)\n",
    "for i in range(n - 1):\n",
    "    r = 2 * i + 1\n",
    "    o = 2 * (i + 1)\n",
    "    plt.plot(o + r * np.cos(an), r * np.sin(an))\n",
    "plt.plot(2 * n + (n - 1) * np.cos(an), (n - 1) * np.sin(an))\n",
    "\n",
    "plt.grid()\n",
    "\n",
    "plt.axis('scaled')\n",
    "plt.axis('equal')\n",
    "\n",
    "# plt.savefig('6_1.pdf', dpi=100)\n"
   ]
  },
  {
   "cell_type": "code",
   "execution_count": null,
   "metadata": {},
   "outputs": [],
   "source": []
  },
  {
   "cell_type": "code",
   "execution_count": null,
   "metadata": {},
   "outputs": [],
   "source": []
  },
  {
   "cell_type": "code",
   "execution_count": null,
   "metadata": {},
   "outputs": [],
   "source": []
  },
  {
   "cell_type": "code",
   "execution_count": null,
   "metadata": {},
   "outputs": [],
   "source": []
  },
  {
   "cell_type": "markdown",
   "metadata": {},
   "source": [
    "## Problem 7"
   ]
  },
  {
   "cell_type": "code",
   "execution_count": 24,
   "metadata": {},
   "outputs": [],
   "source": [
    "n = 100\n",
    "I = np.eye(n)\n",
    "tmp = np.random.randn(n, n)\n",
    "tmp[tmp < 2] = 2\n",
    "A = 0.5 * I[np.random.permutation(n), :] + tmp - 2\n",
    "A = A - np.diag(np.diag(A))\n",
    "tmp = np.sum(A, 0)\n",
    "tmp[tmp < 1e-10] = 1e-10\n",
    "tmp = np.diag(1 / tmp)\n",
    "L = A @ tmp"
   ]
  },
  {
   "cell_type": "code",
   "execution_count": 51,
   "metadata": {},
   "outputs": [
    {
     "data": {
      "image/png": "[encoded data removed]",
      "text/plain": [
       "<Figure size 432x288 with 1 Axes>"
      ]
     },
     "metadata": {
      "needs_background": "light"
     },
     "output_type": "display_data"
    }
   ],
   "source": [
    "plt.spy(L, marker='.')\n",
    "plt.grid()"
   ]
  },
  {
   "cell_type": "code",
   "execution_count": null,
   "metadata": {},
   "outputs": [],
   "source": []
  },
  {
   "cell_type": "code",
   "execution_count": null,
   "metadata": {},
   "outputs": [],
   "source": []
  },
  {
   "cell_type": "code",
   "execution_count": null,
   "metadata": {},
   "outputs": [],
   "source": []
  },
  {
   "cell_type": "code",
   "execution_count": null,
   "metadata": {},
   "outputs": [],
   "source": []
  },
  {
   "cell_type": "code",
   "execution_count": null,
   "metadata": {},
   "outputs": [],
   "source": []
  },
  {
   "cell_type": "code",
   "execution_count": null,
   "metadata": {},
   "outputs": [],
   "source": []
  }
 ],
 "metadata": {
  "kernelspec": {
   "display_name": "Python 3",
   "language": "python",
   "name": "python3"
  },
  "language_info": {
   "codemirror_mode": {
    "name": "ipython",
    "version": 3
   },
   "file_extension": ".py",
   "mimetype": "text/x-python",
   "name": "python",
   "nbconvert_exporter": "python",
   "pygments_lexer": "ipython3",
   "version": "3.7.6"
  }
 },
 "nbformat": 4,
 "nbformat_minor": 4
}
