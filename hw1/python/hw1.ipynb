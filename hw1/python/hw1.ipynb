{
 "cells": [
  {
   "cell_type": "code",
   "execution_count": 22,
   "metadata": {},
   "outputs": [],
   "source": [
    "import numpy as np\n",
    "import matplotlib.pyplot as plt\n",
    "from matplotlib import rc\n",
    "rc('text', usetex=True)\n",
    "rc('font', size=14)"
   ]
  },
  {
   "cell_type": "code",
   "execution_count": null,
   "metadata": {},
   "outputs": [],
   "source": []
  },
  {
   "cell_type": "markdown",
   "metadata": {},
   "source": [
    "## Problem 1\n",
    "$$f(x) = x^2 - x - 1$$\n",
    "$$g(x) = \\sqrt{x+1}, x \\in [0, \\infty)$$"
   ]
  },
  {
   "cell_type": "code",
   "execution_count": 23,
   "metadata": {},
   "outputs": [],
   "source": [
    "def f(x):\n",
    "    return x ** 2 - x - 1\n",
    "\n",
    "def g(x):\n",
    "    return np.sqrt(x + 1)"
   ]
  },
  {
   "cell_type": "markdown",
   "metadata": {},
   "source": [
    "Sketch $g(x)$ and $y=x$."
   ]
  },
  {
   "cell_type": "code",
   "execution_count": 24,
   "metadata": {},
   "outputs": [
    {
     "data": {
      "image/png": "[encoded data removed]",
      "text/plain": [
       "<Figure size 432x288 with 1 Axes>"
      ]
     },
     "metadata": {
      "needs_background": "light"
     },
     "output_type": "display_data"
    }
   ],
   "source": [
    "x = np.linspace(0, 5, 100)\n",
    "gx = g(x)\n",
    "xi = (1 + np.sqrt(5)) / 2\n",
    "\n",
    "plt.plot(x, gx, 'r-', label='$g(x)$')\n",
    "plt.plot(x, x, 'k-', label='$y=x$')\n",
    "plt.plot(xi, g(xi), 'o', markerfacecolor='none', markeredgecolor='k')\n",
    "plt.annotate('Fixed point', xy=(xi, g(xi)), xytext=(xi, g(xi) - 0.4))\n",
    "\n",
    "plt.xlabel('$x$')\n",
    "plt.ylabel('$y$')\n",
    "plt.title('Plot of $g(x)$')\n",
    "plt.legend()\n",
    "\n",
    "plt.savefig('fig1.pdf', dpi=100)"
   ]
  },
  {
   "cell_type": "code",
   "execution_count": null,
   "metadata": {},
   "outputs": [],
   "source": []
  },
  {
   "cell_type": "markdown",
   "metadata": {},
   "source": [
    "## Problem 2\n",
    "$$f(x) = x^4 + 2x^3 - 3x^2 - 4x - 2$$"
   ]
  },
  {
   "cell_type": "code",
   "execution_count": 25,
   "metadata": {},
   "outputs": [],
   "source": [
    "def f(x):\n",
    "    return x^4 + 2 * (x ** 3) - 3 * x * x - 4 * x - 2\n",
    "\n",
    "def g(x):\n",
    "    return (3 * (x ** 4) + 4 * (x ** 3) - 3 * x * x + 2) / (4 * (x ** 3) + 6 * x * x - 6 * x - 4)"
   ]
  },
  {
   "cell_type": "code",
   "execution_count": 34,
   "metadata": {},
   "outputs": [
    {
     "name": "stdout",
     "output_type": "stream",
     "text": [
      "  i            x_i                  err        \n",
      "    1   4.0757560483870927   2.9757560483870926\n",
      "    2   3.0722894227672528   1.0034666256198399\n",
      "    3   2.3766266659744915   0.6956627567927613\n",
      "    4   1.9395585483111686   0.4370681176633229\n",
      "    5   1.7263583208556350   0.2132002274555336\n",
      "    6   1.6713439893671829   0.0550143314884521\n",
      "    7   1.6678443526156230   0.0034996367515598\n",
      "    8   1.6678306538313603   0.0000136987842627\n",
      "    9   1.6678306536219978   0.0000000002093625\n",
      "   10   1.6678306536219978   0.0000000000000000\n"
     ]
    }
   ],
   "source": [
    "x0 = 1.1\n",
    "tol = 1e-16\n",
    "err = 1.0\n",
    "\n",
    "i = 1\n",
    "x = [x0]\n",
    "errs = [err]\n",
    "print('{:^5}   {:^18s}   {:^18s}'.format(\"i\", \"x_i\", \"err\"))\n",
    "while err >= tol:\n",
    "    x1 = g(x0)\n",
    "    err = np.abs(x1 - x0)\n",
    "    print('{:5}   {:.16f}   {:.16f}'.format(i, x1, err))\n",
    "    x.append(x1)\n",
    "    errs.append(err)\n",
    "    x0 = x1\n",
    "    i += 1\n",
    "\n"
   ]
  },
  {
   "cell_type": "code",
   "execution_count": null,
   "metadata": {},
   "outputs": [],
   "source": []
  },
  {
   "cell_type": "code",
   "execution_count": null,
   "metadata": {},
   "outputs": [],
   "source": []
  },
  {
   "cell_type": "code",
   "execution_count": null,
   "metadata": {},
   "outputs": [],
   "source": []
  },
  {
   "cell_type": "code",
   "execution_count": null,
   "metadata": {},
   "outputs": [],
   "source": []
  },
  {
   "cell_type": "code",
   "execution_count": null,
   "metadata": {},
   "outputs": [],
   "source": []
  },
  {
   "cell_type": "code",
   "execution_count": null,
   "metadata": {},
   "outputs": [],
   "source": []
  }
 ],
 "metadata": {
  "kernelspec": {
   "display_name": "Python 3",
   "language": "python",
   "name": "python3"
  },
  "language_info": {
   "codemirror_mode": {
    "name": "ipython",
    "version": 3
   },
   "file_extension": ".py",
   "mimetype": "text/x-python",
   "name": "python",
   "nbconvert_exporter": "python",
   "pygments_lexer": "ipython3",
   "version": "3.7.1"
  }
 },
 "nbformat": 4,
 "nbformat_minor": 2
}
