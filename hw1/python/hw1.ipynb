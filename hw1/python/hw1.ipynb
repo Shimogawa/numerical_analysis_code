{
 "cells": [
  {
   "cell_type": "code",
   "execution_count": 37,
   "metadata": {},
   "outputs": [],
   "source": [
    "import numpy as np\n",
    "import matplotlib.pyplot as plt\n",
    "from matplotlib.ticker import MultipleLocator\n",
    "from matplotlib import rc\n",
    "rc('text', usetex=True)\n",
    "rc('font', size=14)"
   ]
  },
  {
   "cell_type": "code",
   "execution_count": null,
   "metadata": {},
   "outputs": [],
   "source": []
  },
  {
   "cell_type": "markdown",
   "metadata": {},
   "source": [
    "## Problem 1\n",
    "$$f(x) = x^2 - x - 1$$\n",
    "$$g(x) = \\sqrt{x+1}, x \\in [0, \\infty)$$"
   ]
  },
  {
   "cell_type": "code",
   "execution_count": 38,
   "metadata": {},
   "outputs": [],
   "source": [
    "def f(x):\n",
    "    return x ** 2 - x - 1\n",
    "\n",
    "def g(x):\n",
    "    return np.sqrt(x + 1)"
   ]
  },
  {
   "cell_type": "markdown",
   "metadata": {},
   "source": [
    "Sketch $g(x)$ and $y=x$."
   ]
  },
  {
   "cell_type": "code",
   "execution_count": 39,
   "metadata": {},
   "outputs": [
    {
     "data": {
      "text/plain": [
       "<matplotlib.legend.Legend at 0x11ca58d50>"
      ]
     },
     "execution_count": 39,
     "metadata": {},
     "output_type": "execute_result"
    },
    {
     "data": {
      "image/png": "[encoded data removed]",
      "text/plain": [
       "<Figure size 432x288 with 1 Axes>"
      ]
     },
     "metadata": {
      "needs_background": "light"
     },
     "output_type": "display_data"
    }
   ],
   "source": [
    "x = np.linspace(0, 5, 100)\n",
    "gx = g(x)\n",
    "xi = (1 + np.sqrt(5)) / 2\n",
    "\n",
    "plt.plot(x, gx, 'r-', label='$g(x)$')\n",
    "plt.plot(x, x, 'k-', label='$y=x$')\n",
    "plt.plot(xi, g(xi), 'o', markerfacecolor='none', markeredgecolor='k')\n",
    "plt.annotate('Fixed point', xy=(xi, g(xi)), xytext=(xi, g(xi) - 0.4))\n",
    "\n",
    "plt.xlabel('$x$')\n",
    "plt.ylabel('$y$')\n",
    "plt.title('Plot of $g(x)$')\n",
    "plt.legend()\n",
    "\n",
    "# plt.savefig('fig1.pdf', dpi=100)"
   ]
  },
  {
   "cell_type": "code",
   "execution_count": null,
   "metadata": {},
   "outputs": [],
   "source": []
  },
  {
   "cell_type": "markdown",
   "metadata": {},
   "source": [
    "## Problem 2\n",
    "$$f(x) = x^4 + 2x^3 - 3x^2 - 4x - 2$$"
   ]
  },
  {
   "cell_type": "code",
   "execution_count": 40,
   "metadata": {},
   "outputs": [],
   "source": [
    "def f(x):\n",
    "    return x ** 4 + 2 * (x ** 3) - 3 * x * x - 4 * x - 2\n",
    "\n",
    "def g(x):\n",
    "    return (3 * (x ** 4) + 4 * (x ** 3) - 3 * x * x + 2) / (4 * (x ** 3) + 6 * x * x - 6 * x - 4)"
   ]
  },
  {
   "cell_type": "markdown",
   "metadata": {},
   "source": [
    "### Newton's method"
   ]
  },
  {
   "cell_type": "code",
   "execution_count": 41,
   "metadata": {},
   "outputs": [
    {
     "name": "stdout",
     "output_type": "stream",
     "text": [
      "  i            x_i                  err        \n",
      "    1   4.0757560483870927   2.9757560483870926\n",
      "    2   3.0722894227672528   1.0034666256198399\n",
      "    3   2.3766266659744915   0.6956627567927613\n",
      "    4   1.9395585483111686   0.4370681176633229\n",
      "    5   1.7263583208556350   0.2132002274555336\n",
      "    6   1.6713439893671829   0.0550143314884521\n",
      "    7   1.6678443526156230   0.0034996367515598\n",
      "    8   1.6678306538313603   0.0000136987842627\n",
      "    9   1.6678306536219978   0.0000000002093625\n",
      "   10   1.6678306536219978   0.0000000000000000\n",
      "Ended at iteration 11, x_i=1.6678306536219978\n"
     ]
    }
   ],
   "source": [
    "x0 = 1.1\n",
    "tol = 1e-16\n",
    "err = 1.0\n",
    "\n",
    "i = 1\n",
    "x = [x0]\n",
    "errs = [err]\n",
    "print('{:^5}   {:^18s}   {:^18s}'.format(\"i\", \"x_i\", \"err\"))\n",
    "while err >= tol:\n",
    "    x1 = g(x0)\n",
    "    err = np.abs(x1 - x0)\n",
    "    print('{:5}   {:.16f}   {:.16f}'.format(i, x1, err))\n",
    "    x.append(x1)\n",
    "    errs.append(err)\n",
    "    x0 = x1\n",
    "    i += 1\n",
    "\n",
    "print(f\"Ended at iteration {i}, x_i={x0}\")\n",
    "# errs"
   ]
  },
  {
   "cell_type": "markdown",
   "metadata": {},
   "source": [
    "### Secant method"
   ]
  },
  {
   "cell_type": "code",
   "execution_count": 42,
   "metadata": {},
   "outputs": [
    {
     "name": "stdout",
     "output_type": "stream",
     "text": [
      "  i            x_i                  err        \n",
      "    2   1.4341010695489786   0.5658989304510214\n",
      "    3   1.5892637978132622   0.1551627282642836\n",
      "    4   1.6944986616801658   0.1052348638669036\n",
      "    5   1.6654010540816935   0.0290976075984724\n",
      "    6   1.6677596627813140   0.0023586086996206\n",
      "    7   1.6678308464113449   0.0000711836300309\n",
      "    8   1.6678306536067278   0.0000001928046172\n",
      "    9   1.6678306536219978   0.0000000000152700\n",
      "   10   1.6678306536219978   0.0000000000000000\n",
      "Ended at iteration 11, x_i=1.6678306536219978\n"
     ]
    }
   ],
   "source": [
    "x0 = 1.1\n",
    "x1 = 2\n",
    "tol = 1e-16\n",
    "err = x1 - x0\n",
    "\n",
    "i = 2\n",
    "x = [x0, x1]\n",
    "errs = [err]\n",
    "print('{:^5}   {:^18s}   {:^18s}'.format(\"i\", \"x_i\", \"err\"))\n",
    "while err >= tol:\n",
    "    x2 = x1 - f(x1) / ((f(x1) - f(x0)) / (x1 - x0))\n",
    "    err = np.abs(x2 - x1)\n",
    "    print('{:5}   {:.16f}   {:.16f}'.format(i, x2, err))\n",
    "#     print('$x_{:d}$ & {:.16f} \\\\\\\\ \\\\hline'.format(i, x2))\n",
    "    x.append(x2)\n",
    "    errs.append(err)\n",
    "    x0 = x1\n",
    "    x1 = x2\n",
    "    i += 1\n",
    "\n",
    "print(f\"Ended at iteration {i}, x_i={x0}\")    \n",
    "    "
   ]
  },
  {
   "cell_type": "markdown",
   "metadata": {},
   "source": [
    "### Bisection Method"
   ]
  },
  {
   "cell_type": "code",
   "execution_count": 43,
   "metadata": {},
   "outputs": [
    {
     "name": "stdout",
     "output_type": "stream",
     "text": [
      "  i            c_i        \n",
      "    0   1.5500000000000000\n",
      "    1   1.7749999999999999\n",
      "    2   1.6625000000000001\n",
      "    3   1.7187500000000000\n",
      "    4   1.6906250000000000\n",
      "    5   1.6765625000000002\n",
      "    6   1.6695312500000001\n",
      "    7   1.6660156250000000\n",
      "    8   1.6677734375000002\n",
      "    9   1.6686523437500003\n",
      "   10   1.6682128906250002\n",
      "   11   1.6679931640625001\n",
      "   12   1.6678833007812501\n",
      "   13   1.6678283691406253\n",
      "   14   1.6678558349609376\n",
      "   15   1.6678421020507814\n",
      "   16   1.6678352355957033\n",
      "   17   1.6678318023681644\n",
      "   18   1.6678300857543948\n",
      "   19   1.6678309440612797\n",
      "   20   1.6678305149078372\n",
      "   21   1.6678307294845585\n",
      "   22   1.6678306221961978\n",
      "   23   1.6678306758403783\n",
      "   24   1.6678306490182879\n",
      "   25   1.6678306624293331\n",
      "   26   1.6678306557238105\n",
      "   27   1.6678306523710491\n",
      "   28   1.6678306540474299\n",
      "   29   1.6678306532092395\n",
      "   30   1.6678306536283347\n",
      "   31   1.6678306534187870\n",
      "   32   1.6678306535235610\n",
      "   33   1.6678306535759480\n",
      "   34   1.6678306536021412\n",
      "   35   1.6678306536152379\n",
      "   36   1.6678306536217864\n",
      "   37   1.6678306536250607\n",
      "   38   1.6678306536234235\n",
      "   39   1.6678306536226049\n",
      "   40   1.6678306536221956\n",
      "   41   1.6678306536219911\n",
      "   42   1.6678306536220933\n",
      "   43   1.6678306536220422\n",
      "   44   1.6678306536220167\n",
      "   45   1.6678306536220040\n",
      "   46   1.6678306536219976\n",
      "   47   1.6678306536220009\n",
      "   48   1.6678306536219991\n",
      "   49   1.6678306536219982\n",
      "   50   1.6678306536219978\n"
     ]
    }
   ],
   "source": [
    "a0 = 1.1\n",
    "b0 = 2\n",
    "tol = 1e-16\n",
    "\n",
    "a = [a0]\n",
    "b = [b0]\n",
    "c = [(a0 + b0) / 2]\n",
    "i = 0\n",
    "err = 1\n",
    "\n",
    "print('{:^5}   {:^18s}'.format(\"i\", \"c_i\"))\n",
    "\n",
    "while err > tol:\n",
    "    if f(a[i]) * f(c[i]) < 0:\n",
    "        a.append(a[i])\n",
    "        b.append(c[i])\n",
    "        c.append((a[i] + c[i]) / 2)\n",
    "    elif f(b[i]) * f(c[i]) < 0:\n",
    "        a.append(c[i])\n",
    "        b.append(b[i])\n",
    "        c.append((c[i] + b[i]) / 2)\n",
    "    else:\n",
    "        break\n",
    "    print('{:5}   {:.16f}'.format(i, c[i]))\n",
    "    err = np.abs(c[i + 1] - c[i])\n",
    "    i += 1\n",
    "        "
   ]
  },
  {
   "cell_type": "code",
   "execution_count": null,
   "metadata": {},
   "outputs": [],
   "source": []
  },
  {
   "cell_type": "code",
   "execution_count": null,
   "metadata": {},
   "outputs": [],
   "source": []
  },
  {
   "cell_type": "code",
   "execution_count": null,
   "metadata": {},
   "outputs": [],
   "source": []
  },
  {
   "cell_type": "code",
   "execution_count": null,
   "metadata": {},
   "outputs": [],
   "source": []
  },
  {
   "cell_type": "markdown",
   "metadata": {},
   "source": [
    "## Problem 3\n",
    "$$g(x) = \\frac{1}{2} \\tan x$$\n",
    "$$h(x) = \\arctan (2x)$$"
   ]
  },
  {
   "cell_type": "code",
   "execution_count": 44,
   "metadata": {},
   "outputs": [],
   "source": [
    "def g(x):\n",
    "    return 0.5 * np.tan(x)\n",
    "\n",
    "def h(x):\n",
    "    return np.arctan(2 * x)"
   ]
  },
  {
   "cell_type": "code",
   "execution_count": 45,
   "metadata": {},
   "outputs": [
    {
     "data": {
      "image/png": "[encoded data removed]",
      "text/plain": [
       "<Figure size 432x288 with 1 Axes>"
      ]
     },
     "metadata": {
      "needs_background": "light"
     },
     "output_type": "display_data"
    }
   ],
   "source": [
    "x = np.linspace(-1.3, 1.3, 300)\n",
    "gx = g(x)\n",
    "hx = h(x)\n",
    "xi = np.array([1.16556118, 0, -1.16556118])\n",
    "\n",
    "fig, ax = plt.subplots()\n",
    "\n",
    "ax.plot(x, gx, 'r', label='$g(x)$')\n",
    "ax.plot(x, hx, 'y', label='$h(x)$')\n",
    "ax.plot(x, x, 'k', label='$y=x$')\n",
    "ax.plot(xi, h(xi), 'o', markerfacecolor='none', markeredgecolor='k', label='Fixed points')\n",
    "for i in range(3):\n",
    "    plt.annotate(str(i), xy=(xi[i], h(xi[i])), xytext=(xi[i], h(xi[i]) - 0.3))\n",
    "\n",
    "# plt.xlim((1, 1.4))\n",
    "# plt.ylim((0.5, 3.5))\n",
    "\n",
    "spacing = 0.25\n",
    "minorLocator = MultipleLocator(spacing)\n",
    "ax.yaxis.set_minor_locator(minorLocator)\n",
    "ax.xaxis.set_minor_locator(minorLocator)\n",
    "\n",
    "plt.xlabel('$x$')\n",
    "plt.ylabel('$y$')\n",
    "plt.title('Plot of $g(x)$ and $h(x)$')\n",
    "plt.legend()\n",
    "plt.grid()\n",
    "\n",
    "\n",
    "# plt.savefig('fig2.pdf', dpi=100)"
   ]
  },
  {
   "cell_type": "code",
   "execution_count": null,
   "metadata": {},
   "outputs": [],
   "source": []
  },
  {
   "cell_type": "code",
   "execution_count": null,
   "metadata": {},
   "outputs": [],
   "source": []
  },
  {
   "cell_type": "markdown",
   "metadata": {},
   "source": [
    "## Problem 4(c)\n",
    "\n",
    "$$g(x) = 0.5x - (0.5x - \\tan x)^2$$"
   ]
  },
  {
   "cell_type": "code",
   "execution_count": 46,
   "metadata": {},
   "outputs": [],
   "source": [
    "def g(x):\n",
    "    return 0.5 * x - (0.5 * x - np.tan(x)) ** 2"
   ]
  },
  {
   "cell_type": "code",
   "execution_count": 47,
   "metadata": {},
   "outputs": [
    {
     "name": "stdout",
     "output_type": "stream",
     "text": [
      "  i            x_i                  err        \n",
      "    1   -0.3377951654876296   0.1622048345123704\n",
      "    2   -0.2021529345587224   0.1356422309289072\n",
      "    3   -0.1118666806588958   0.0902862538998266\n",
      "    4   -0.0591145628231221   0.0527521178357737\n",
      "    5   -0.0304349953324100   0.0286795674907121\n",
      "    6   -0.0154493560995414   0.0149856392328686\n",
      "    7   -0.0077843676938627   0.0076649884056786\n",
      "    8   -0.0039073341660579   0.0038770335278049\n",
      "    9   -0.0019574839757975   0.0019498501902603\n",
      "   10   -0.0009796999286717   0.0009777840471258\n",
      "   11   -0.0004900899176305   0.0004896100110412\n",
      "   12   -0.0002451050058663   0.0002449849117642\n",
      "   13   -0.0001225675220503   0.0001225374838160\n",
      "   14   -0.0000612875167246   0.0000612800053257\n",
      "   15   -0.0000306446974022   0.0000306428193224\n",
      "   16   -0.0000153225834755   0.0000153221139267\n",
      "   17   -0.0000076613504331   0.0000076612330424\n",
      "   18   -0.0000038306898906   0.0000038306605425\n",
      "   19   -0.0000019153486139   0.0000019153412768\n",
      "   20   -0.0000009576752241   0.0000009576733898\n",
      "   21   -0.0000004788378413   0.0000004788373828\n",
      "   22   -0.0000002394189780   0.0000002394188633\n",
      "   23   -0.0000001197095033   0.0000001197094747\n",
      "   24   -0.0000000598547552   0.0000000598547481\n",
      "   25   -0.0000000299273785   0.0000000299273767\n",
      "   26   -0.0000000149636895   0.0000000149636890\n",
      "   27   -0.0000000074818448   0.0000000074818447\n",
      "   28   -0.0000000037409224   0.0000000037409224\n",
      "   29   -0.0000000018704612   0.0000000018704612\n",
      "   30   -0.0000000009352306   0.0000000009352306\n",
      "   31   -0.0000000004676153   0.0000000004676153\n",
      "   32   -0.0000000002338077   0.0000000002338077\n",
      "   33   -0.0000000001169038   0.0000000001169038\n",
      "   34   -0.0000000000584519   0.0000000000584519\n",
      "   35   -0.0000000000292260   0.0000000000292260\n",
      "   36   -0.0000000000146130   0.0000000000146130\n",
      "   37   -0.0000000000073065   0.0000000000073065\n",
      "   38   -0.0000000000036532   0.0000000000036532\n",
      "   39   -0.0000000000018266   0.0000000000018266\n",
      "   40   -0.0000000000009133   0.0000000000009133\n",
      "   41   -0.0000000000004567   0.0000000000004567\n",
      "   42   -0.0000000000002283   0.0000000000002283\n",
      "   43   -0.0000000000001142   0.0000000000001142\n",
      "   44   -0.0000000000000571   0.0000000000000571\n",
      "   45   -0.0000000000000285   0.0000000000000285\n",
      "   46   -0.0000000000000143   0.0000000000000143\n",
      "   47   -0.0000000000000071   0.0000000000000071\n",
      "   48   -0.0000000000000036   0.0000000000000036\n",
      "   49   -0.0000000000000018   0.0000000000000018\n",
      "   50   -0.0000000000000009   0.0000000000000009\n",
      "   51   -0.0000000000000004   0.0000000000000004\n",
      "   52   -0.0000000000000002   0.0000000000000002\n",
      "   53   -0.0000000000000001   0.0000000000000001\n",
      "   54   -0.0000000000000001   0.0000000000000001\n",
      "   55   -0.0000000000000000   0.0000000000000000\n",
      "   56   -0.0000000000000000   0.0000000000000000\n",
      "   57   -0.0000000000000000   0.0000000000000000\n",
      "   58   -0.0000000000000000   0.0000000000000000\n",
      "   59   -0.0000000000000000   0.0000000000000000\n",
      "   60   -0.0000000000000000   0.0000000000000000\n",
      "   61   -0.0000000000000000   0.0000000000000000\n",
      "   62   -0.0000000000000000   0.0000000000000000\n",
      "   63   -0.0000000000000000   0.0000000000000000\n",
      "   64   -0.0000000000000000   0.0000000000000000\n",
      "   65   -0.0000000000000000   0.0000000000000000\n",
      "   66   -0.0000000000000000   0.0000000000000000\n",
      "   67   -0.0000000000000000   0.0000000000000000\n",
      "   68   -0.0000000000000000   0.0000000000000000\n",
      "   69   -0.0000000000000000   0.0000000000000000\n",
      "   70   -0.0000000000000000   0.0000000000000000\n",
      "   71   -0.0000000000000000   0.0000000000000000\n",
      "   72   -0.0000000000000000   0.0000000000000000\n",
      "   73   -0.0000000000000000   0.0000000000000000\n",
      "   74   -0.0000000000000000   0.0000000000000000\n",
      "   75   -0.0000000000000000   0.0000000000000000\n",
      "   76   -0.0000000000000000   0.0000000000000000\n",
      "   77   -0.0000000000000000   0.0000000000000000\n",
      "   78   -0.0000000000000000   0.0000000000000000\n",
      "   79   -0.0000000000000000   0.0000000000000000\n",
      "   80   -0.0000000000000000   0.0000000000000000\n",
      "   81   -0.0000000000000000   0.0000000000000000\n",
      "   82   -0.0000000000000000   0.0000000000000000\n",
      "   83   -0.0000000000000000   0.0000000000000000\n",
      "   84   -0.0000000000000000   0.0000000000000000\n",
      "   85   -0.0000000000000000   0.0000000000000000\n",
      "   86   -0.0000000000000000   0.0000000000000000\n",
      "   87   -0.0000000000000000   0.0000000000000000\n",
      "   88   -0.0000000000000000   0.0000000000000000\n",
      "   89   -0.0000000000000000   0.0000000000000000\n",
      "   90   -0.0000000000000000   0.0000000000000000\n",
      "   91   -0.0000000000000000   0.0000000000000000\n",
      "   92   -0.0000000000000000   0.0000000000000000\n",
      "   93   -0.0000000000000000   0.0000000000000000\n",
      "   94   -0.0000000000000000   0.0000000000000000\n",
      "   95   -0.0000000000000000   0.0000000000000000\n",
      "   96   -0.0000000000000000   0.0000000000000000\n",
      "   97   -0.0000000000000000   0.0000000000000000\n",
      "   98   -0.0000000000000000   0.0000000000000000\n",
      "   99   -0.0000000000000000   0.0000000000000000\n",
      "  100   -0.0000000000000000   0.0000000000000000\n",
      "order of convergence: 1.0\n"
     ]
    }
   ],
   "source": [
    "x0 = -0.5\n",
    "tol = 1e-16\n",
    "err = 1.0\n",
    "\n",
    "i = 0\n",
    "x = [x0]\n",
    "errs = [err]\n",
    "print('{:^5}   {:^18s}   {:^18s}'.format(\"i\", \"x_i\", \"err\"))\n",
    "while i < 100:\n",
    "    i += 1\n",
    "    x1 = g(x0)\n",
    "    err = np.abs(x1 - x0)\n",
    "    print('{:5}   {:.16f}   {:.16f}'.format(i, x1, err))\n",
    "    x.append(x1)\n",
    "    errs.append(err)\n",
    "    x0 = x1\n",
    "    \n",
    "print(f\"order of convergence: {(np.log(x[i] / x[i - 1]) / np.log(x[i - 1] / x[i - 2]))}\")"
   ]
  },
  {
   "cell_type": "code",
   "execution_count": null,
   "metadata": {},
   "outputs": [],
   "source": []
  },
  {
   "cell_type": "code",
   "execution_count": null,
   "metadata": {},
   "outputs": [],
   "source": []
  },
  {
   "cell_type": "code",
   "execution_count": null,
   "metadata": {},
   "outputs": [],
   "source": []
  },
  {
   "cell_type": "code",
   "execution_count": null,
   "metadata": {},
   "outputs": [],
   "source": []
  },
  {
   "cell_type": "code",
   "execution_count": null,
   "metadata": {},
   "outputs": [],
   "source": []
  }
 ],
 "metadata": {
  "kernelspec": {
   "display_name": "Python 3",
   "language": "python",
   "name": "python3"
  },
  "language_info": {
   "codemirror_mode": {
    "name": "ipython",
    "version": 3
   },
   "file_extension": ".py",
   "mimetype": "text/x-python",
   "name": "python",
   "nbconvert_exporter": "python",
   "pygments_lexer": "ipython3",
   "version": "3.7.4"
  }
 },
 "nbformat": 4,
 "nbformat_minor": 2
}
